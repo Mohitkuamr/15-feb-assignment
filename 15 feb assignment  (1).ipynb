{
 "cells": [
  {
   "cell_type": "code",
   "execution_count": null,
   "id": "817f1450-efb0-4895-a9f1-b6cbcb7125bb",
   "metadata": {},
   "outputs": [],
   "source": [
    "Ans = 1\n",
    "Multiprocessing in Python is a technique that allows a Python program to use multiple CPUs or cores of a computer \n",
    "to perform concurrent and parallel processing of tasks. It is a way to achieve parallelism by dividing a program into\n",
    "independent processes, each running in its own memory space and working on a separate task.\n",
    "\n",
    "Multiprocessing is useful in Python for a variety of reasons. Firstly, it can greatly improve the performance and speed\n",
    "of a program that needs to perform computationally intensive tasks by taking advantage of multiple CPUs or cores available \n",
    "on a machine. Secondly, it can help to improve the overall scalability and responsiveness of a program by allowing \n",
    "it to handle multiple tasks simultaneously.\n",
    "\n"
   ]
  },
  {
   "cell_type": "code",
   "execution_count": null,
   "id": "3b9932eb-cf91-46ce-823f-31c9b8542cbc",
   "metadata": {},
   "outputs": [],
   "source": [
    "Ans = 2\n",
    "The main differences between multiprocessing and multithreading can be summarized as follows:\n",
    "\n",
    "1. \n",
    "Multiprocessing involves creating separate processes that run on separate CPUs or cores, while multithreading involves \n",
    "creating separate threads that run within a single process.\n",
    "Each process in multiprocessing has its own memory space, while all threads in multithreading share the same memory space.\n",
    "Processes in multiprocessing are more isolated and less prone to synchronization issues than threads in multithreading,\n",
    "but require more overhead to communicate with each other.\n",
    "2.\n",
    "Multithreading can be more efficient than multiprocessing for programs that perform a large number of I/O-bound tasks,\n",
    "while multiprocessing is more suitable for programs that perform computationally intensive tasks that can be parallelized."
   ]
  },
  {
   "cell_type": "code",
   "execution_count": null,
   "id": "1cd570cb-445f-40ae-a9a1-5e1ab5884a0c",
   "metadata": {},
   "outputs": [],
   "source": [
    "Ans = 3\n",
    "import multiprocessing\n",
    "\n",
    "def process_func():\n",
    "    \"\"\"This is the function that will be run in the process\"\"\"\n",
    "    print(\"This is a child process\")\n",
    "\n",
    "if __name__ == '__main__':\n",
    "    \"\"\"This is the main process\"\"\"\n",
    "    print(\"This is the main process\")\n",
    "    p = multiprocessing.Process(target=process_func)\n",
    "    p.start()\n",
    "    p.join()\n"
   ]
  },
  {
   "cell_type": "code",
   "execution_count": null,
   "id": "247f864a-938f-4dce-baed-43971de3752e",
   "metadata": {},
   "outputs": [],
   "source": [
    "Ans = 4\n",
    "from multiprocessing import Pool\n",
    "\n",
    "def square(x):\n",
    "    return x ** 2\n",
    "\n",
    "if __name__ == '__main__':\n",
    "    with Pool(processes=4) as pool:\n",
    "        inputs = [1, 2, 3, 4, 5]\n",
    "        results = pool.map(square, inputs)\n",
    "    print(results)\n"
   ]
  },
  {
   "cell_type": "code",
   "execution_count": null,
   "id": "7257fcd9-a096-42b0-b627-d34876b42b39",
   "metadata": {},
   "outputs": [],
   "source": [
    "Ans = 5\n",
    "from multiprocessing import Pool\n",
    "\n",
    "def square(x):\n",
    "    return x ** 2\n",
    "\n",
    "if __name__ == '__main__':\n",
    "    with Pool(processes=4) as pool:\n",
    "        inputs = [1, 2, 3, 4, 5]\n",
    "        results = pool.map(square, inputs)\n",
    "    print(results)\n"
   ]
  },
  {
   "cell_type": "code",
   "execution_count": null,
   "id": "9a98710a-fd14-4257-ab0f-5f30520fc0cb",
   "metadata": {},
   "outputs": [],
   "source": [
    "Ans = 6\n",
    "import multiprocessing\n",
    "\n",
    "def print_number(num):\n",
    "    print(f\"Process {multiprocessing.current_process().name} printed: {num}\")\n",
    "\n",
    "if __name__ == '__main__':\n",
    "    with multiprocessing.Pool(processes=4) as pool:\n",
    "        pool.map(print_number, [1, 2, 3, 4])\n"
   ]
  }
 ],
 "metadata": {
  "kernelspec": {
   "display_name": "Python 3 (ipykernel)",
   "language": "python",
   "name": "python3"
  },
  "language_info": {
   "codemirror_mode": {
    "name": "ipython",
    "version": 3
   },
   "file_extension": ".py",
   "mimetype": "text/x-python",
   "name": "python",
   "nbconvert_exporter": "python",
   "pygments_lexer": "ipython3",
   "version": "3.10.8"
  }
 },
 "nbformat": 4,
 "nbformat_minor": 5
}
